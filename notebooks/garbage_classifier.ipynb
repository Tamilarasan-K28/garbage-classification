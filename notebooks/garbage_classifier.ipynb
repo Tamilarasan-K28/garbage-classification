{
 "cells": [
  {
   "cell_type": "markdown",
   "id": "3b2cfc34",
   "metadata": {},
   "source": [
    "# Garbage Classification using CNN (50% Project Completion)\n",
    "\n",
    "This project uses a Convolutional Neural Network (CNN) to classify garbage images into categories:\n",
    "- Cardboard, Glass, Metal, Paper, Plastic, Trash\n",
    "\n",
    "Tasks completed in this notebook:\n",
    "- Load and visualize dataset\n",
    "- Preprocess images\n",
    "- Build and train CNN model\n",
    "- Visualize training results\n"
   ]
  },
  {
   "cell_type": "code",
   "execution_count": null,
   "id": "54f8476c",
   "metadata": {},
   "outputs": [],
   "source": [
    "import os\n",
    "import numpy as np\n",
    "import matplotlib.pyplot as plt\n",
    "from tensorflow.keras.preprocessing.image import ImageDataGenerator\n",
    "from tensorflow.keras.models import Sequential\n",
    "from tensorflow.keras.layers import Conv2D, MaxPooling2D, Flatten, Dense, Dropout\n"
   ]
  },
  {
   "cell_type": "markdown",
   "id": "e029f61f",
   "metadata": {},
   "source": [
    "## 📁 Dataset Preview\n",
    "Loading sample images from the dataset and visualizing them.\n"
   ]
  },
  {
   "cell_type": "code",
   "execution_count": null,
   "id": "0173c42b",
   "metadata": {},
   "outputs": [],
   "source": [
    "data_path = 'C:\\Users\\Tamilarasan K\\garbage-classification\\data\\sample'  \n",
    "classes = os.listdir(data_path)\n",
    "print(\"Classes:\", classes)\n",
    "\n",
    "# Show one image per class\n",
    "for cls in classes:\n",
    "    image_path = os.path.join(data_path, cls, os.listdir(os.path.join(data_path, cls))[0])\n",
    "    img = plt.imread(image_path)\n",
    "    plt.imshow(img)\n",
    "    plt.title(cls)\n",
    "    plt.axis('off')\n",
    "    plt.show()\n"
   ]
  },
  {
   "cell_type": "markdown",
   "id": "c674dee2",
   "metadata": {},
   "source": [
    "## 🧼 Image Preprocessing\n",
    "Using ImageDataGenerator to scale and split the dataset.\n"
   ]
  },
  {
   "cell_type": "code",
   "execution_count": null,
   "id": "5a6ca363",
   "metadata": {},
   "outputs": [],
   "source": [
    "datagen = ImageDataGenerator(rescale=1./255, validation_split=0.2)\n",
    "\n",
    "train_gen = datagen.flow_from_directory(\n",
    "    data_path,\n",
    "    target_size=(150, 150),\n",
    "    batch_size=4,\n",
    "    class_mode='categorical',\n",
    "    subset='training'\n",
    ")\n",
    "\n",
    "val_gen = datagen.flow_from_directory(\n",
    "    data_path,\n",
    "    target_size=(150, 150),\n",
    "    batch_size=4,\n",
    "    class_mode='categorical',\n",
    "    subset='validation'\n",
    ")\n"
   ]
  },
  {
   "cell_type": "markdown",
   "id": "05b44e20",
   "metadata": {},
   "source": [
    "## 🧠 CNN Model Architecture\n",
    "Building a simple CNN with two convolutional layers.\n"
   ]
  },
  {
   "cell_type": "code",
   "execution_count": null,
   "id": "efd55ba1",
   "metadata": {},
   "outputs": [],
   "source": [
    "model = Sequential([\n",
    "    Conv2D(32, (3,3), activation='relu', input_shape=(150, 150, 3)),\n",
    "    MaxPooling2D(2,2),\n",
    "    Conv2D(64, (3,3), activation='relu'),\n",
    "    MaxPooling2D(2,2),\n",
    "    Flatten(),\n",
    "    Dropout(0.5),\n",
    "    Dense(128, activation='relu'),\n",
    "    Dense(train_gen.num_classes, activation='softmax')\n",
    "])\n",
    "\n",
    "model.compile(optimizer='adam',\n",
    "              loss='categorical_crossentropy',\n",
    "              metrics=['accuracy'])\n",
    "\n",
    "model.summary()\n"
   ]
  },
  {
   "cell_type": "markdown",
   "id": "d589f870",
   "metadata": {},
   "source": [
    "## 🏋️‍♂️ Model Training\n",
    "Training the model for 5 epochs using our small dataset.\n"
   ]
  },
  {
   "cell_type": "code",
   "execution_count": null,
   "id": "903fd2bf",
   "metadata": {},
   "outputs": [],
   "source": [
    "history = model.fit(\n",
    "    train_gen,\n",
    "    epochs=5,\n",
    "    validation_data=val_gen\n",
    ")\n"
   ]
  },
  {
   "cell_type": "markdown",
   "id": "efbdccec",
   "metadata": {},
   "source": [
    "## 📊 Accuracy & Loss Visualization\n",
    "Visualizing model performance on training and validation sets.\n"
   ]
  },
  {
   "cell_type": "code",
   "execution_count": null,
   "id": "53861144",
   "metadata": {},
   "outputs": [],
   "source": [
    "# Accuracy\n",
    "plt.plot(history.history['accuracy'], label='Train Acc')\n",
    "plt.plot(history.history['val_accuracy'], label='Val Acc')\n",
    "plt.title('Model Accuracy')\n",
    "plt.xlabel('Epoch')\n",
    "plt.ylabel('Accuracy')\n",
    "plt.legend()\n",
    "plt.show()\n",
    "\n",
    "# Loss\n",
    "plt.plot(history.history['loss'], label='Train Loss')\n",
    "plt.plot(history.history['val_loss'], label='Val Loss')\n",
    "plt.title('Model Loss')\n",
    "plt.xlabel('Epoch')\n",
    "plt.ylabel('Loss')\n",
    "plt.legend()\n",
    "plt.show()\n"
   ]
  },
  {
   "cell_type": "code",
   "execution_count": null,
   "id": "bf277d46",
   "metadata": {},
   "outputs": [],
   "source": [
    "model.save(\"garbage_classifier_model.h5\")\n"
   ]
  }
 ],
 "metadata": {
  "kernelspec": {
   "display_name": ".venv",
   "language": "python",
   "name": "python3"
  },
  "language_info": {
   "name": "python",
   "version": "3.13.4"
  }
 },
 "nbformat": 4,
 "nbformat_minor": 5
}
